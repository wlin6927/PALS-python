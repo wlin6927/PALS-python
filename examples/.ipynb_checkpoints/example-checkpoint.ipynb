{
 "cells": [
  {
   "cell_type": "code",
   "execution_count": 1,
   "id": "f8668b8b-c86c-46c7-8540-f9af1705e310",
   "metadata": {},
   "outputs": [],
   "source": [
    "import json\n",
    "import yaml\n",
    "\n",
    "from pals import MagneticMultipoleParameters\n",
    "from pals import Drift\n",
    "from pals import Quadrupole\n",
    "from pals import BeamLine\n",
    "from pals import Kicker"
   ]
  },
  {
   "cell_type": "code",
   "execution_count": 2,
   "id": "3a342a56-5c7d-409b-93b2-1a9778c6b576",
   "metadata": {},
   "outputs": [],
   "source": [
    "drift1 = Drift(\n",
    "        name=\"drift1\",\n",
    "        length=0.25,\n",
    "    )"
   ]
  },
  {
   "cell_type": "code",
   "execution_count": 3,
   "id": "ce97f2ea-4acd-4cf1-8ff6-bbfca4d8520a",
   "metadata": {},
   "outputs": [],
   "source": [
    "quad1 = Quadrupole(\n",
    "        name=\"quad1\",\n",
    "        length=1.0,\n",
    "        MagneticMultipoleP=MagneticMultipoleParameters(\n",
    "            Kn1=1.0,\n",
    "        ),\n",
    "    )"
   ]
  },
  {
   "cell_type": "code",
   "execution_count": 4,
   "id": "158fcb86-a20a-43fc-b6b5-d7c56970ca4d",
   "metadata": {},
   "outputs": [],
   "source": [
    "drift2 = Drift(\n",
    "        name=\"drift2\",\n",
    "        length=0.5,\n",
    "    )"
   ]
  },
  {
   "cell_type": "code",
   "execution_count": 5,
   "id": "b3f175f0-3f16-48ab-9300-296a1699b2bd",
   "metadata": {},
   "outputs": [],
   "source": [
    "quad2 = Quadrupole(\n",
    "        name=\"quad2\",\n",
    "        length=1.0,\n",
    "        MagneticMultipoleP=MagneticMultipoleParameters(\n",
    "            Kn1=-1.0,\n",
    "        ),\n",
    "    )"
   ]
  },
  {
   "cell_type": "code",
   "execution_count": 6,
   "id": "f15af09d-9c2c-4f48-a23b-f185b31ffb2f",
   "metadata": {},
   "outputs": [],
   "source": [
    "drift3 = Drift(\n",
    "        name=\"drift3\",\n",
    "        length=0.5,\n",
    "    )"
   ]
  },
  {
   "cell_type": "code",
   "execution_count": null,
   "id": "95792f7c-c95d-475e-be69-b1437d7b4b81",
   "metadata": {},
   "outputs": [],
   "source": [
    "kicker1 = Kicker(\n",
    "          name=\"kicker1\",\n",
    "          MagneticMultipoleP=MagneticMultipoleParameters(\n",
    "            Kn1=0.,\n",
    "        ),\n",
    "    )"
   ]
  },
  {
   "cell_type": "code",
   "execution_count": 7,
   "id": "8466887d-feb0-451e-9424-017a3f493f4c",
   "metadata": {},
   "outputs": [],
   "source": [
    "# Create line with all elements\n",
    "line = BeamLine(\n",
    "        name=\"fodo_cell\",\n",
    "        line=[\n",
    "            drift1,\n",
    "            quad1,\n",
    "            drift2,\n",
    "            quad2,\n",
    "            drift3,\n",
    "        ],\n",
    "    )"
   ]
  },
  {
   "cell_type": "code",
   "execution_count": 9,
   "id": "5ff5303c-d7d9-41fd-83d3-bb248517c315",
   "metadata": {},
   "outputs": [
    {
     "data": {
      "text/plain": [
       "BeamLine(kind='BeamLine', name='fodo_cell', line=[Drift(kind='Drift', name='drift1', length=0.25), Quadrupole(kind='Quadrupole', name='quad1', length=1.0, MagneticMultipoleP=MagneticMultipoleParameters(Kn1=1.0)), Drift(kind='Drift', name='drift2', length=0.5), Quadrupole(kind='Quadrupole', name='quad2', length=1.0, MagneticMultipoleP=MagneticMultipoleParameters(Kn1=-1.0)), Drift(kind='Drift', name='drift3', length=0.5)])"
      ]
     },
     "execution_count": 9,
     "metadata": {},
     "output_type": "execute_result"
    }
   ],
   "source": [
    "line"
   ]
  },
  {
   "cell_type": "code",
   "execution_count": 10,
   "id": "11fa9c3d-393e-4fe7-b7d4-3598e6ea2896",
   "metadata": {},
   "outputs": [],
   "source": [
    "# Serialize to YAML\n",
    "yaml_data = yaml.dump(line.model_dump(), default_flow_style=False)"
   ]
  },
  {
   "cell_type": "code",
   "execution_count": 11,
   "id": "b8f30ef8-b7b4-4e5c-ba9b-8253a6015bb6",
   "metadata": {},
   "outputs": [
    {
     "data": {
      "text/plain": [
       "'fodo_cell:\\n  kind: BeamLine\\n  line:\\n  - drift1:\\n      kind: Drift\\n      length: 0.25\\n  - quad1:\\n      MagneticMultipoleP:\\n        Kn1: 1.0\\n      kind: Quadrupole\\n      length: 1.0\\n  - drift2:\\n      kind: Drift\\n      length: 0.5\\n  - quad2:\\n      MagneticMultipoleP:\\n        Kn1: -1.0\\n      kind: Quadrupole\\n      length: 1.0\\n  - drift3:\\n      kind: Drift\\n      length: 0.5\\n'"
      ]
     },
     "execution_count": 11,
     "metadata": {},
     "output_type": "execute_result"
    }
   ],
   "source": [
    "yaml_data"
   ]
  },
  {
   "cell_type": "code",
   "execution_count": 12,
   "id": "63b9caef-2ef4-40ef-acc2-4ba27d9da976",
   "metadata": {},
   "outputs": [],
   "source": [
    "# Write YAML data to file\n",
    "yaml_file = \"examples_fodo.yaml\"\n",
    "\n",
    "with open(yaml_file, \"w\") as file:\n",
    "    file.write(yaml_data)"
   ]
  },
  {
   "cell_type": "code",
   "execution_count": 13,
   "id": "48c37137-6656-402f-9e23-bb7f7f10d366",
   "metadata": {},
   "outputs": [],
   "source": [
    "# Read YAML data from file\n",
    "with open(yaml_file, \"r\") as file:\n",
    "    yaml_data = yaml.safe_load(file)"
   ]
  },
  {
   "cell_type": "code",
   "execution_count": 14,
   "id": "e8152ba0-b946-43aa-b337-1d08f305659f",
   "metadata": {},
   "outputs": [],
   "source": [
    "# Parse YAML data\n",
    "loaded_line = BeamLine(**yaml_data)"
   ]
  },
  {
   "cell_type": "code",
   "execution_count": 15,
   "id": "358469b4-b35e-4940-908d-a0a93f4c4e16",
   "metadata": {},
   "outputs": [],
   "source": [
    "# Validate loaded data\n",
    "assert line == loaded_line"
   ]
  },
  {
   "cell_type": "code",
   "execution_count": 16,
   "id": "3c655827-6ac2-44e4-a4cc-18bf1173041a",
   "metadata": {},
   "outputs": [
    {
     "data": {
      "text/plain": [
       "True"
      ]
     },
     "execution_count": 16,
     "metadata": {},
     "output_type": "execute_result"
    }
   ],
   "source": [
    "line == loaded_line"
   ]
  },
  {
   "cell_type": "code",
   "execution_count": 17,
   "id": "718fa93b-43c5-45ea-b9a9-b2377381aab2",
   "metadata": {},
   "outputs": [],
   "source": [
    "# Serialize to JSON\n",
    "json_data = json.dumps(line.model_dump(), sort_keys=True, indent=2)"
   ]
  },
  {
   "cell_type": "code",
   "execution_count": 18,
   "id": "dd53248c-a138-4e1a-9df0-c0c1e82fc004",
   "metadata": {},
   "outputs": [],
   "source": [
    "# Write JSON data to file\n",
    "json_file = \"examples_fodo.json\"\n",
    "\n",
    "with open(json_file, \"w\") as file:\n",
    "    file.write(json_data)"
   ]
  },
  {
   "cell_type": "code",
   "execution_count": 19,
   "id": "b888848d-8379-4209-b494-bd14de7f973b",
   "metadata": {},
   "outputs": [],
   "source": [
    "# Read JSON data from file\n",
    "with open(json_file, \"r\") as file:\n",
    "    json_data = json.loads(file.read())"
   ]
  },
  {
   "cell_type": "code",
   "execution_count": 20,
   "id": "4f37bd7f-067e-476c-ad09-757c31dd4c5e",
   "metadata": {},
   "outputs": [],
   "source": [
    "# Parse JSON data\n",
    "loaded_line = BeamLine(**json_data)"
   ]
  },
  {
   "cell_type": "code",
   "execution_count": 21,
   "id": "49ce6314-3b37-4613-9642-af5a406530dd",
   "metadata": {},
   "outputs": [],
   "source": [
    "# Validate loaded data\n",
    "assert line == loaded_line"
   ]
  },
  {
   "cell_type": "code",
   "execution_count": 22,
   "id": "0911fcbb-d0f6-4217-93bb-5ac840ea0646",
   "metadata": {},
   "outputs": [
    {
     "data": {
      "text/plain": [
       "True"
      ]
     },
     "execution_count": 22,
     "metadata": {},
     "output_type": "execute_result"
    }
   ],
   "source": [
    "line == loaded_line"
   ]
  },
  {
   "cell_type": "code",
   "execution_count": null,
   "id": "52e63ae8-a4a4-4b4b-abc8-fec98938366e",
   "metadata": {},
   "outputs": [],
   "source": []
  }
 ],
 "metadata": {
  "kernelspec": {
   "display_name": "pals",
   "language": "python",
   "name": "pals"
  },
  "language_info": {
   "codemirror_mode": {
    "name": "ipython",
    "version": 3
   },
   "file_extension": ".py",
   "mimetype": "text/x-python",
   "name": "python",
   "nbconvert_exporter": "python",
   "pygments_lexer": "ipython3",
   "version": "3.13.9"
  }
 },
 "nbformat": 4,
 "nbformat_minor": 5
}
