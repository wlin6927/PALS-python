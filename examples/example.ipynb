{
 "cells": [
  {
   "cell_type": "code",
   "execution_count": 7,
   "id": "f8668b8b-c86c-46c7-8540-f9af1705e310",
   "metadata": {},
   "outputs": [],
   "source": [
    "import json\n",
    "import yaml\n",
    "\n",
    "from pals import MagneticMultipoleParameters, BendParameters\n",
    "from pals import Drift\n",
    "from pals import Quadrupole\n",
    "from pals import BeamLine\n",
    "from pals import Kicker\n",
    "from pals import Sbend, Rbend\n",
    "from pals import Sextupole"
   ]
  },
  {
   "cell_type": "code",
   "execution_count": 2,
   "id": "d135d0d4-ce8b-46cb-bae5-1ed0a7f7b332",
   "metadata": {},
   "outputs": [],
   "source": [
    "import math"
   ]
  },
  {
   "cell_type": "code",
   "execution_count": 3,
   "id": "f33f782a-7ee7-439c-9488-bf630a19f922",
   "metadata": {},
   "outputs": [
    {
     "data": {
      "text/plain": [
       "\u001b[31mInit signature:\u001b[39m\n",
       "BendParameters(\n",
       "    *,\n",
       "    rho_ref: float = \u001b[32m0.0\u001b[39m,\n",
       "    bend_field_ref: float = \u001b[32m0.0\u001b[39m,\n",
       "    e1: float = \u001b[32m0.0\u001b[39m,\n",
       "    e2: float = \u001b[32m0.0\u001b[39m,\n",
       "    e1_rect: float = \u001b[32m0.0\u001b[39m,\n",
       "    e2_rect: float = \u001b[32m0.0\u001b[39m,\n",
       "    edge_int1: float = \u001b[32m0.0\u001b[39m,\n",
       "    edge_int2: float = \u001b[32m0.0\u001b[39m,\n",
       "    g_ref: float = \u001b[32m0.0\u001b[39m,\n",
       "    h1: float = \u001b[32m0.0\u001b[39m,\n",
       "    h2: float = \u001b[32m0.0\u001b[39m,\n",
       "    L_chord: float = \u001b[32m0.0\u001b[39m,\n",
       "    L_sagitta: float = \u001b[32m0.0\u001b[39m,\n",
       "    tilt_ref: float = \u001b[32m0.0\u001b[39m,\n",
       "    **extra_data: Any,\n",
       ") -> \u001b[38;5;28;01mNone\u001b[39;00m\n",
       "\u001b[31mDocstring:\u001b[39m     \n",
       "Bend (dipole) element parameters (BendP)\n",
       "\n",
       "Defines reference and geometric parameters for sector or rectangular dipoles.\n",
       "These parameters describe the bend strength, edge angles, and geometry.\n",
       "\n",
       "Parameters\n",
       "----------\n",
       "rho_ref : float = 0\n",
       "    [radian] Reference bend angle.\n",
       "bend_field_ref : float = 0\n",
       "    [T] Reference bend field.\n",
       "e1 : float = 0\n",
       "    [radian] Entrance end pole face rotation with respect to a sector geometry.\n",
       "e2 : float = 0\n",
       "    [radian] Exit end pole face rotation with respect to a sector geometry.\n",
       "e1_rect : float = 0\n",
       "    [radian] Entrance end pole face rotation with respect to a rectangular geometry.\n",
       "e2_rect : float = 0\n",
       "    [radian] Exit end pole face rotation with respect to a rectangular geometry.\n",
       "edge_int1 : float = 0\n",
       "    [T·m] Entrance end fringe field integral.\n",
       "edge_int2 : float = 0\n",
       "    [T·m] Exit end fringe field integral.\n",
       "g_ref : float = 0\n",
       "    [1/m] Reference bend strength = 1 / radius_ref.\n",
       "h1 : float = 0\n",
       "    Entrance end pole face curvature.\n",
       "h2 : float = 0\n",
       "    Exit end pole face curvature.\n",
       "L_chord : float = 0\n",
       "    [m] Chord length.\n",
       "L_sagitta : float = 0\n",
       "    [m] Sagitta length (output parameter).\n",
       "tilt_ref : float = 0\n",
       "    [radian] Reference tilt.\n",
       "\u001b[31mInit docstring:\u001b[39m\n",
       "Create a new model by parsing and validating input data from keyword arguments.\n",
       "\n",
       "Raises [`ValidationError`][pydantic_core.ValidationError] if the input data cannot be\n",
       "validated to form a valid model.\n",
       "\n",
       "`self` is explicitly positional-only to allow `self` as a field name.\n",
       "\u001b[31mFile:\u001b[39m           ~/Documents/PALS/PALS-python/src/pals/parameters/BendParameters.py\n",
       "\u001b[31mType:\u001b[39m           ModelMetaclass\n",
       "\u001b[31mSubclasses:\u001b[39m     "
      ]
     },
     "metadata": {},
     "output_type": "display_data"
    }
   ],
   "source": [
    "?BendParameters"
   ]
  },
  {
   "cell_type": "code",
   "execution_count": 4,
   "id": "3a342a56-5c7d-409b-93b2-1a9778c6b576",
   "metadata": {},
   "outputs": [],
   "source": [
    "drift1 = Drift(\n",
    "        name=\"drift1\",\n",
    "        length=0.25,\n",
    "    )"
   ]
  },
  {
   "cell_type": "code",
   "execution_count": 5,
   "id": "a425cbe3-e790-4459-a524-d04e8e6c47a7",
   "metadata": {},
   "outputs": [],
   "source": [
    "sbend = Sbend(\n",
    "        name = \"sb\",\n",
    "        length = 5.0,\n",
    "        BendP=BendParameters(\n",
    "            rho_ref=math.pi/10\n",
    "        ),\n",
    ")"
   ]
  },
  {
   "cell_type": "code",
   "execution_count": 6,
   "id": "ee3c2730-2bc0-4476-8764-c9c102b48218",
   "metadata": {},
   "outputs": [],
   "source": [
    "rbend = Rbend(\n",
    "        name = \"rb\",\n",
    "        length = 5.0,\n",
    "        BendP=BendParameters(\n",
    "            rho_ref=math.pi/10\n",
    "        ),\n",
    "        MagneticMultipoleP=MagneticMultipoleParameters(\n",
    "            Kn1=1e-5,\n",
    "        ),\n",
    ")"
   ]
  },
  {
   "cell_type": "code",
   "execution_count": 8,
   "id": "6d969085-657a-4610-b0eb-cc7acd82b877",
   "metadata": {},
   "outputs": [],
   "source": [
    "sext1 = Sextupole(\n",
    "        name=\"sext1\",\n",
    "        length = 0.5,\n",
    "        MagneticMultipoleP=MagneticMultipoleParameters(\n",
    "            Kn2=0.5,\n",
    "        ),\n",
    ")"
   ]
  },
  {
   "cell_type": "code",
   "execution_count": 9,
   "id": "32162fb9-297b-4750-850e-709c9c3b796e",
   "metadata": {},
   "outputs": [],
   "source": [
    "sext2 = Sextupole(\n",
    "        name=\"sext2\",\n",
    "        length = 0.5,\n",
    "        MagneticMultipoleP=MagneticMultipoleParameters(\n",
    "            Kn2=-0.5,\n",
    "        ),\n",
    ")"
   ]
  },
  {
   "cell_type": "code",
   "execution_count": 13,
   "id": "ce97f2ea-4acd-4cf1-8ff6-bbfca4d8520a",
   "metadata": {},
   "outputs": [],
   "source": [
    "quad1 = Quadrupole(\n",
    "        name=\"quad1\",\n",
    "        length=1.0,\n",
    "        MagneticMultipoleP=MagneticMultipoleParameters(\n",
    "            Kn1=1.0,\n",
    "        ),\n",
    "    )"
   ]
  },
  {
   "cell_type": "code",
   "execution_count": 14,
   "id": "158fcb86-a20a-43fc-b6b5-d7c56970ca4d",
   "metadata": {},
   "outputs": [],
   "source": [
    "drift2 = Drift(\n",
    "        name=\"drift2\",\n",
    "        length=0.5,\n",
    "    )"
   ]
  },
  {
   "cell_type": "code",
   "execution_count": 15,
   "id": "b3f175f0-3f16-48ab-9300-296a1699b2bd",
   "metadata": {},
   "outputs": [],
   "source": [
    "quad2 = Quadrupole(\n",
    "        name=\"quad2\",\n",
    "        length=1.0,\n",
    "        MagneticMultipoleP=MagneticMultipoleParameters(\n",
    "            Kn1=-1.0,\n",
    "        ),\n",
    "    )"
   ]
  },
  {
   "cell_type": "code",
   "execution_count": 16,
   "id": "f15af09d-9c2c-4f48-a23b-f185b31ffb2f",
   "metadata": {},
   "outputs": [],
   "source": [
    "drift3 = Drift(\n",
    "        name=\"drift3\",\n",
    "        length=0.5,\n",
    "    )"
   ]
  },
  {
   "cell_type": "code",
   "execution_count": 17,
   "id": "95792f7c-c95d-475e-be69-b1437d7b4b81",
   "metadata": {},
   "outputs": [],
   "source": [
    "kicker1 = Kicker(\n",
    "          name=\"kicker1\",\n",
    "          length=0.0,\n",
    "          MagneticMultipoleP=MagneticMultipoleParameters(\n",
    "            Kn1=0.,\n",
    "        ),\n",
    "    )"
   ]
  },
  {
   "cell_type": "code",
   "execution_count": 18,
   "id": "e074d5b0-780d-4446-81af-8ef15c9dea06",
   "metadata": {},
   "outputs": [],
   "source": [
    "kicker2 = Kicker(\n",
    "          name=\"kicker2\",\n",
    "          length=0.0,\n",
    "          MagneticMultipoleP=MagneticMultipoleParameters(\n",
    "            Ks1=0.,\n",
    "        ),\n",
    "    )"
   ]
  },
  {
   "cell_type": "code",
   "execution_count": 19,
   "id": "6643702b-e2f6-4fc3-965d-3b1c706f5082",
   "metadata": {},
   "outputs": [],
   "source": [
    "drift4 = Drift(\n",
    "        name=\"drift4\",\n",
    "        length=1.,\n",
    "    )"
   ]
  },
  {
   "cell_type": "code",
   "execution_count": 20,
   "id": "8466887d-feb0-451e-9424-017a3f493f4c",
   "metadata": {},
   "outputs": [],
   "source": [
    "# Create line with all elements\n",
    "line = BeamLine(\n",
    "        name=\"fodo_cell\",\n",
    "        line=[\n",
    "            drift1,\n",
    "            quad1,\n",
    "            kicker1,\n",
    "            drift1,\n",
    "            sext1,\n",
    "            drift4,\n",
    "            sbend,\n",
    "            drift4,\n",
    "            drift2,\n",
    "            quad2,\n",
    "            kicker2,\n",
    "            drift3,\n",
    "            sext2\n",
    "        ],\n",
    "    )"
   ]
  },
  {
   "cell_type": "code",
   "execution_count": 21,
   "id": "5ff5303c-d7d9-41fd-83d3-bb248517c315",
   "metadata": {},
   "outputs": [
    {
     "data": {
      "text/plain": [
       "BeamLine(kind='BeamLine', name='fodo_cell', line=[Drift(kind='Drift', name='drift1', length=0.25), Quadrupole(kind='Quadrupole', name='quad1', length=1.0, MagneticMultipoleP=MagneticMultipoleParameters(Kn1=1.0)), Kicker(kind='Kicker', name='kicker1', length=0.0, MagneticMultipoleP=MagneticMultipoleParameters(Kn1=0.0)), Drift(kind='Drift', name='drift1', length=0.25), Sextupole(kind='Sextupole', name='sext1', length=0.5, MagneticMultipoleP=MagneticMultipoleParameters(Kn2=0.5)), Drift(kind='Drift', name='drift4', length=1.0), Sbend(kind='Sbend', name='sb', length=5.0, BendP=BendParameters(rho_ref=0.3141592653589793, bend_field_ref=0.0, e1=0.0, e2=0.0, e1_rect=0.0, e2_rect=0.0, edge_int1=0.0, edge_int2=0.0, g_ref=0.0, h1=0.0, h2=0.0, L_chord=0.0, L_sagitta=0.0, tilt_ref=0.0), MagneticMultipoleP=None), Drift(kind='Drift', name='drift4', length=1.0), Drift(kind='Drift', name='drift2', length=0.5), Quadrupole(kind='Quadrupole', name='quad2', length=1.0, MagneticMultipoleP=MagneticMultipoleParameters(Kn1=-1.0)), Kicker(kind='Kicker', name='kicker2', length=0.0, MagneticMultipoleP=MagneticMultipoleParameters(Ks1=0.0)), Drift(kind='Drift', name='drift3', length=0.5), Sextupole(kind='Sextupole', name='sext2', length=0.5, MagneticMultipoleP=MagneticMultipoleParameters(Kn2=-0.5))])"
      ]
     },
     "execution_count": 21,
     "metadata": {},
     "output_type": "execute_result"
    }
   ],
   "source": [
    "line"
   ]
  },
  {
   "cell_type": "code",
   "execution_count": 22,
   "id": "11fa9c3d-393e-4fe7-b7d4-3598e6ea2896",
   "metadata": {},
   "outputs": [],
   "source": [
    "# Serialize to YAML\n",
    "yaml_data = yaml.dump(line.model_dump(), default_flow_style=False)"
   ]
  },
  {
   "cell_type": "code",
   "execution_count": 23,
   "id": "b8f30ef8-b7b4-4e5c-ba9b-8253a6015bb6",
   "metadata": {},
   "outputs": [
    {
     "data": {
      "text/plain": [
       "'fodo_cell:\\n  kind: BeamLine\\n  line:\\n  - drift1:\\n      kind: Drift\\n      length: 0.25\\n  - quad1:\\n      MagneticMultipoleP:\\n        Kn1: 1.0\\n      kind: Quadrupole\\n      length: 1.0\\n  - kicker1:\\n      MagneticMultipoleP:\\n        Kn1: 0.0\\n      kind: Kicker\\n      length: 0.0\\n  - drift1:\\n      kind: Drift\\n      length: 0.25\\n  - sext1:\\n      MagneticMultipoleP:\\n        Kn2: 0.5\\n      kind: Sextupole\\n      length: 0.5\\n  - drift4:\\n      kind: Drift\\n      length: 1.0\\n  - sb:\\n      BendP:\\n        L_chord: 0.0\\n        L_sagitta: 0.0\\n        bend_field_ref: 0.0\\n        e1: 0.0\\n        e1_rect: 0.0\\n        e2: 0.0\\n        e2_rect: 0.0\\n        edge_int1: 0.0\\n        edge_int2: 0.0\\n        g_ref: 0.0\\n        h1: 0.0\\n        h2: 0.0\\n        rho_ref: 0.3141592653589793\\n        tilt_ref: 0.0\\n      MagneticMultipoleP: null\\n      kind: Sbend\\n      length: 5.0\\n  - drift4:\\n      kind: Drift\\n      length: 1.0\\n  - drift2:\\n      kind: Drift\\n      length: 0.5\\n  - quad2:\\n      MagneticMultipoleP:\\n        Kn1: -1.0\\n      kind: Quadrupole\\n      length: 1.0\\n  - kicker2:\\n      MagneticMultipoleP:\\n        Ks1: 0.0\\n      kind: Kicker\\n      length: 0.0\\n  - drift3:\\n      kind: Drift\\n      length: 0.5\\n  - sext2:\\n      MagneticMultipoleP:\\n        Kn2: -0.5\\n      kind: Sextupole\\n      length: 0.5\\n'"
      ]
     },
     "execution_count": 23,
     "metadata": {},
     "output_type": "execute_result"
    }
   ],
   "source": [
    "yaml_data"
   ]
  },
  {
   "cell_type": "code",
   "execution_count": 24,
   "id": "63b9caef-2ef4-40ef-acc2-4ba27d9da976",
   "metadata": {},
   "outputs": [],
   "source": [
    "# Write YAML data to file\n",
    "yaml_file = \"examples_fodo.yaml\"\n",
    "\n",
    "with open(yaml_file, \"w\") as file:\n",
    "    file.write(yaml_data)"
   ]
  },
  {
   "cell_type": "code",
   "execution_count": 25,
   "id": "48c37137-6656-402f-9e23-bb7f7f10d366",
   "metadata": {},
   "outputs": [],
   "source": [
    "# Read YAML data from file\n",
    "with open(yaml_file, \"r\") as file:\n",
    "    yaml_data = yaml.safe_load(file)"
   ]
  },
  {
   "cell_type": "code",
   "execution_count": 26,
   "id": "e8152ba0-b946-43aa-b337-1d08f305659f",
   "metadata": {},
   "outputs": [],
   "source": [
    "# Parse YAML data\n",
    "loaded_line = BeamLine(**yaml_data)"
   ]
  },
  {
   "cell_type": "code",
   "execution_count": 27,
   "id": "358469b4-b35e-4940-908d-a0a93f4c4e16",
   "metadata": {},
   "outputs": [],
   "source": [
    "# Validate loaded data\n",
    "assert line == loaded_line"
   ]
  },
  {
   "cell_type": "code",
   "execution_count": 28,
   "id": "3c655827-6ac2-44e4-a4cc-18bf1173041a",
   "metadata": {},
   "outputs": [
    {
     "data": {
      "text/plain": [
       "True"
      ]
     },
     "execution_count": 28,
     "metadata": {},
     "output_type": "execute_result"
    }
   ],
   "source": [
    "line == loaded_line"
   ]
  },
  {
   "cell_type": "code",
   "execution_count": 29,
   "id": "718fa93b-43c5-45ea-b9a9-b2377381aab2",
   "metadata": {},
   "outputs": [],
   "source": [
    "# Serialize to JSON\n",
    "json_data = json.dumps(line.model_dump(), sort_keys=True, indent=2)"
   ]
  },
  {
   "cell_type": "code",
   "execution_count": 30,
   "id": "dd53248c-a138-4e1a-9df0-c0c1e82fc004",
   "metadata": {},
   "outputs": [],
   "source": [
    "# Write JSON data to file\n",
    "json_file = \"examples_fodo.json\"\n",
    "\n",
    "with open(json_file, \"w\") as file:\n",
    "    file.write(json_data)"
   ]
  },
  {
   "cell_type": "code",
   "execution_count": 31,
   "id": "b888848d-8379-4209-b494-bd14de7f973b",
   "metadata": {},
   "outputs": [],
   "source": [
    "# Read JSON data from file\n",
    "with open(json_file, \"r\") as file:\n",
    "    json_data = json.loads(file.read())"
   ]
  },
  {
   "cell_type": "code",
   "execution_count": 32,
   "id": "4f37bd7f-067e-476c-ad09-757c31dd4c5e",
   "metadata": {},
   "outputs": [],
   "source": [
    "# Parse JSON data\n",
    "loaded_line = BeamLine(**json_data)"
   ]
  },
  {
   "cell_type": "code",
   "execution_count": 33,
   "id": "49ce6314-3b37-4613-9642-af5a406530dd",
   "metadata": {},
   "outputs": [],
   "source": [
    "# Validate loaded data\n",
    "assert line == loaded_line"
   ]
  },
  {
   "cell_type": "code",
   "execution_count": 34,
   "id": "0911fcbb-d0f6-4217-93bb-5ac840ea0646",
   "metadata": {},
   "outputs": [
    {
     "data": {
      "text/plain": [
       "True"
      ]
     },
     "execution_count": 34,
     "metadata": {},
     "output_type": "execute_result"
    }
   ],
   "source": [
    "line == loaded_line"
   ]
  },
  {
   "cell_type": "code",
   "execution_count": null,
   "id": "52e63ae8-a4a4-4b4b-abc8-fec98938366e",
   "metadata": {},
   "outputs": [],
   "source": []
  }
 ],
 "metadata": {
  "kernelspec": {
   "display_name": "pals",
   "language": "python",
   "name": "pals"
  },
  "language_info": {
   "codemirror_mode": {
    "name": "ipython",
    "version": 3
   },
   "file_extension": ".py",
   "mimetype": "text/x-python",
   "name": "python",
   "nbconvert_exporter": "python",
   "pygments_lexer": "ipython3",
   "version": "3.13.9"
  }
 },
 "nbformat": 4,
 "nbformat_minor": 5
}
